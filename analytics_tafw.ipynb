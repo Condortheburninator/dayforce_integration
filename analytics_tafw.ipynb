{
 "cells": [
  {
   "cell_type": "code",
   "execution_count": 1,
   "metadata": {},
   "outputs": [],
   "source": [
    "\n",
    "# --- #\n",
    "# modules\n",
    "\n",
    "import pandas as pd\n",
    "import requests\n",
    "import json\n",
    "import config\n",
    "from google.cloud import bigquery\n",
    "from google.cloud.exceptions import NotFound\n",
    "import os\n",
    "import datetime\n",
    "\n",
    "# --- #\n",
    "# pandas settings\n",
    "\n",
    "# pd.set_option('display.max_columns',    None)\n",
    "# pd.set_option('display.max_rows',       200)\n",
    "# pd.set_option('display.width',          500)\n",
    "# pd.set_option('display.max_seq_items',  None)\n",
    "# pd.set_option('display.max_colwidth',   50)\n",
    "# pd.set_option('expand_frame_repr',      True)\n",
    "\n",
    "# --- #\n"
   ]
  },
  {
   "cell_type": "code",
   "execution_count": 2,
   "metadata": {},
   "outputs": [],
   "source": [
    "\n",
    "# --- #\n",
    "# achieve token\n",
    "# --- #\n",
    "\n",
    "def achieve_token():\n",
    "    pass\n",
    "\n",
    "url_token = config.url_token\n",
    "\n",
    "# data payload\n",
    "\n",
    "data = {\n",
    "         'grant_type'   : config.grant_type\n",
    "        ,'companyId'    : config.companyId\n",
    "        ,'username'     : config.user_name\n",
    "        ,'password'     : config.password\n",
    "        ,'client_id'    : config.client_id\n",
    "}\n",
    "\n",
    "try:\n",
    "    response = requests.post(url_token, data = data)\n",
    "    # console.print('great success', style = 'good')\n",
    "    # print('great success')\n",
    "\n",
    "except:\n",
    "    # console.print('error', style = 'bad')\n",
    "    print('error')\n",
    "    # pass\n",
    "\n",
    "data    = json.loads(response.content)\n",
    "\n",
    "token   = data['access_token']\n",
    "\n",
    "# --- #\n"
   ]
  },
  {
   "cell_type": "code",
   "execution_count": 3,
   "metadata": {},
   "outputs": [],
   "source": [
    "\n",
    "# --- #\n",
    "# get report\n",
    "\n",
    "head        = {'Authorization': f'Bearer {token}'}\n",
    "\n",
    "url_report  = f'https://us63-services.dayforcehcm.com/Api/{config.companyId}/V1/Reports/{config.report1}?exampleParameterGuid1=string&exampleParameterGuid2=string&exampleParameterGuid3=string'\n",
    "\n",
    "response    = requests.get(url_report, headers = head)\n",
    "\n",
    "data        = json.loads(response.content)\n",
    "\n",
    "# --- #\n"
   ]
  },
  {
   "cell_type": "code",
   "execution_count": 4,
   "metadata": {},
   "outputs": [],
   "source": [
    "\n",
    "# --- #\n",
    "# extract only the records / data portion of the response\n",
    "\n",
    "data_filtered   = data['Data']['Rows']\n",
    "\n",
    "df              = pd.DataFrame.from_dict(data_filtered)\n",
    "\n",
    "# print(df)\n",
    "\n",
    "# --- #\n"
   ]
  },
  {
   "cell_type": "code",
   "execution_count": 5,
   "metadata": {},
   "outputs": [],
   "source": [
    "\n",
    "# --- #\n",
    "# convert datetime columns to datetime\n",
    "\n",
    "df[['EmployeeTAFWCustom_TimeStart', 'EmployeeTAFWCustom_TimeEnd', 'EmployeeTAFWCustom_LastModifiedTimestamp', 'EmployeeTAFWCustom_TimeRequested', 'EmployeeTAFWCustom_TimeStatusChanged']] = df[['EmployeeTAFWCustom_TimeStart', 'EmployeeTAFWCustom_TimeEnd', 'EmployeeTAFWCustom_LastModifiedTimestamp', 'EmployeeTAFWCustom_TimeRequested', 'EmployeeTAFWCustom_TimeStatusChanged']].apply(pd.to_datetime)\n",
    "\n",
    "# modify format to have bigquery recognise the object as a DATE, python doesn't have a DATE datatype (only datetime)\n",
    "\n",
    "df['EmployeeTAFWCustom_NetHours'] = df['EmployeeTAFWCustom_NetHours'].astype(float)\n",
    "\n",
    "\n",
    "# --- #\n"
   ]
  },
  {
   "cell_type": "code",
   "execution_count": 6,
   "metadata": {},
   "outputs": [],
   "source": [
    "\n",
    "# --- #\n",
    "# rename columns\n",
    "\n",
    "\n",
    "\n",
    "df = df.rename(\n",
    "\n",
    "    columns = {\n",
    "\n",
    "             'EmployeeEmploymentStatus_EmployeeNumber'      : 'EmployeeId'\n",
    "            ,'TAFWStatus_ShortName'                         : 'Status'\n",
    "            ,'PayAdjCode_ShortName'                         : 'Type'\n",
    "            ,'EmployeeTAFWCustom_TimeStart'                 : 'DateTimeStart'\n",
    "            ,'EmployeeTAFWCustom_TimeEnd'                   : 'DateTimeEnd'\n",
    "            ,'EmployeeTAFWCustom_LastModifiedTimestamp'     : 'DateTimeLastModified'\n",
    "            ,'EmployeeTAFWCustom_TimeRequested'             : 'DateTimeRequested'\n",
    "            ,'EmployeeTAFWCustom_TimeStatusChanged'         : 'DateTimeStatusChanged'\n",
    "            ,'EmployeeTAFWCustom_NetHours'                  : 'HoursQty'\n",
    "\n",
    "    }\n",
    "        # ,inplace = True\n",
    "\n",
    ")\n",
    "\n",
    "# --- #\n"
   ]
  },
  {
   "cell_type": "code",
   "execution_count": 7,
   "metadata": {},
   "outputs": [],
   "source": [
    "\n",
    "# ---#\n",
    "# loc = len(df.columns) => count number of columns\n",
    "\n",
    "df.insert(loc = len(df.columns), column = 'DateTimeInserted', value = datetime.datetime.utcnow())\n",
    "\n",
    "# --- #\n"
   ]
  },
  {
   "cell_type": "code",
   "execution_count": 8,
   "metadata": {},
   "outputs": [],
   "source": [
    "\n",
    "# --- #\n",
    "# connect to bigquery\n",
    "\n",
    "os.environ['GOOGLE_APPLICATION_CREDENTIALS'] = config.bigquery_credentials_path\n",
    "\n",
    "client = bigquery.Client()\n",
    "\n",
    "# --- #\n"
   ]
  },
  {
   "cell_type": "code",
   "execution_count": 9,
   "metadata": {},
   "outputs": [
    {
     "data": {
      "text/plain": [
       "<google.cloud.bigquery.table._EmptyRowIterator at 0x162bdf610>"
      ]
     },
     "execution_count": 9,
     "metadata": {},
     "output_type": "execute_result"
    }
   ],
   "source": [
    "\n",
    "schema = [\n",
    "\n",
    "    {\n",
    "         'name'          : 'EmployeeId'\n",
    "        ,'type'          : 'STRING'\n",
    "        ,'mode'          : 'REQUIRED'\n",
    "        ,'description'   : 'dayforce employee id'\n",
    "    },\n",
    "    {\n",
    "         'name'          : 'Status'\n",
    "        ,'type'          : 'STRING'\n",
    "        ,'mode'          : 'NULLABLE'\n",
    "        ,'description'   : 'status of the tafw request'\n",
    "    },\n",
    "    {\n",
    "         'name'          : 'Type'\n",
    "        ,'type'          : 'STRING'\n",
    "        ,'mode'          : 'NULLABLE'\n",
    "        ,'description'   : 'type of tafw (ex. vacation, sick)'\n",
    "    },\n",
    "    {\n",
    "         'name'          : 'DateTimeStart'\n",
    "        ,'type'          : 'DATETIME'\n",
    "        ,'mode'          : 'NULLABLE'\n",
    "        ,'description'   : 'datetime the tafw starts'\n",
    "    },\n",
    "    {\n",
    "         'name'          : 'DateTimeEnd'\n",
    "        ,'type'          : 'DATETIME'\n",
    "        ,'mode'          : 'NULLABLE'\n",
    "        ,'description'   : 'datetime the tafw ends'\n",
    "    },\n",
    "    {\n",
    "         'name'          : 'DateTimeLastModified'\n",
    "        ,'type'          : 'DATETIME'\n",
    "        ,'mode'          : 'NULLABLE'\n",
    "        ,'description'   : 'datetime the record was modified'\n",
    "    },\n",
    "    {\n",
    "         'name'          : 'DateTimeRequested'\n",
    "        ,'type'          : 'DATETIME'\n",
    "        ,'mode'          : 'NULLABLE'\n",
    "        ,'description'   : 'datetime the record was modified'\n",
    "    },\n",
    "    {\n",
    "         'name'          : 'DateTimeStatusChanged'\n",
    "        ,'type'          : 'DATETIME'\n",
    "        ,'mode'          : 'NULLABLE'\n",
    "        ,'description'   : 'datetime the status changed'\n",
    "    },\n",
    "    {\n",
    "         'name'          : 'HoursQty'\n",
    "        ,'type'          : 'FLOAT'\n",
    "        ,'mode'          : 'NULLABLE'\n",
    "        ,'description'   : 'total hours the employee will be away'\n",
    "    },\n",
    "    {\n",
    "         'name'          : 'DateTimeInserted'\n",
    "        ,'type'          : 'DATETIME'\n",
    "        ,'mode'          : 'REQUIRED'\n",
    "        ,'description'   : 'datetime when the record was INSERTed into the warehouse'\n",
    "    }\n",
    "\n",
    "]\n",
    "\n",
    "table_path = f'{config.project_id}.{config.dataset}.stage_{config.table1}'\n",
    "truncate_table = (f'''TRUNCATE TABLE {table_path}''')\n",
    "\n",
    "# try:\n",
    "#     client.get_table(table = table_path)\n",
    "# # client.delete_table(table_path)\n",
    "#     client.query(truncate_table)\n",
    "\n",
    "# except:\n",
    "#     table = bigquery.Table(table_path, schema = schema)\n",
    "#     client.create_table(table)\n",
    "\n",
    "client.query(truncate_table).result()\n",
    "\n"
   ]
  },
  {
   "cell_type": "code",
   "execution_count": 10,
   "metadata": {},
   "outputs": [],
   "source": [
    "\n",
    "# ---#\n",
    "\n",
    "insert = client.load_table_from_dataframe(df, table_path).result()\n",
    "\n",
    "# ---#\n"
   ]
  },
  {
   "cell_type": "code",
   "execution_count": 11,
   "metadata": {},
   "outputs": [
    {
     "data": {
      "text/plain": [
       "<google.cloud.bigquery.table._EmptyRowIterator at 0x162b1e290>"
      ]
     },
     "execution_count": 11,
     "metadata": {},
     "output_type": "execute_result"
    }
   ],
   "source": [
    "\n",
    "# --- #\n",
    "# call stored procedure to MERGE between stage table and target\n",
    "\n",
    "# stored_procedure = (f'''CALL {config.project_id}.{config.dataset}.merge_{config.table1}() ''')\n",
    "\n",
    "# stored_procedure = (f'CALL `bowery-dev-354722.dayforce.merge_analytics_tafw`()')\n",
    "stored_procedure = (f'CALL `{config.project_id}.{config.dataset}.merge_{config.table1}`()')\n",
    "\n",
    "client.query(stored_procedure).result()\n",
    "\n",
    "# --- #\n"
   ]
  },
  {
   "cell_type": "code",
   "execution_count": 12,
   "metadata": {},
   "outputs": [
    {
     "data": {
      "text/plain": [
       "<google.cloud.bigquery.table._EmptyRowIterator at 0x106937a60>"
      ]
     },
     "execution_count": 12,
     "metadata": {},
     "output_type": "execute_result"
    }
   ],
   "source": [
    "\n",
    "# --- #\n",
    "# delete the stage table\n",
    "\n",
    "# truncate_table = (f'''TRUNCATE TABLE {table_path}''')\n",
    "# client.delete_table(table_path)\n",
    "client.query(truncate_table).result()\n",
    "\n",
    "# --- #\n"
   ]
  },
  {
   "cell_type": "code",
   "execution_count": 13,
   "metadata": {},
   "outputs": [],
   "source": [
    "\n",
    "# --- #\n",
    "# close connection\n",
    "\n",
    "client.close()\n",
    "\n",
    "# --- #\n"
   ]
  }
 ],
 "metadata": {
  "kernelspec": {
   "display_name": "Python 3.10.4 64-bit",
   "language": "python",
   "name": "python3"
  },
  "language_info": {
   "codemirror_mode": {
    "name": "ipython",
    "version": 3
   },
   "file_extension": ".py",
   "mimetype": "text/x-python",
   "name": "python",
   "nbconvert_exporter": "python",
   "pygments_lexer": "ipython3",
   "version": "3.10.4 (v3.10.4:9d38120e33, Mar 23 2022, 17:29:05) [Clang 13.0.0 (clang-1300.0.29.30)]"
  },
  "orig_nbformat": 4,
  "vscode": {
   "interpreter": {
    "hash": "aee8b7b246df8f9039afb4144a1f6fd8d2ca17a180786b69acc140d282b71a49"
   }
  }
 },
 "nbformat": 4,
 "nbformat_minor": 2
}
